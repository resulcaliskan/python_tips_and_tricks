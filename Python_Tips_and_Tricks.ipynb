{
  "nbformat": 4,
  "nbformat_minor": 0,
  "metadata": {
    "colab": {
      "name": "Python Tips and Tricks.ipynb",
      "provenance": [],
      "collapsed_sections": [],
      "authorship_tag": "ABX9TyPDb//6XifObw+41UJU7kR9",
      "include_colab_link": true
    },
    "kernelspec": {
      "name": "python3",
      "display_name": "Python 3"
    }
  },
  "cells": [
    {
      "cell_type": "markdown",
      "metadata": {
        "id": "view-in-github",
        "colab_type": "text"
      },
      "source": [
        "<a href=\"https://colab.research.google.com/github/resulcaliskan/python_tips_and_tricks/blob/main/Python_Tips_and_Tricks.ipynb\" target=\"_parent\"><img src=\"https://colab.research.google.com/assets/colab-badge.svg\" alt=\"Open In Colab\"/></a>"
      ]
    },
    {
      "cell_type": "markdown",
      "metadata": {
        "id": "7nDe30JUAJHX"
      },
      "source": [
        "**First read it, then try to figure out it, and finally do it.**\n",
        "\n",
        "\n",
        "---\n",
        "\n",
        "\n",
        "\n"
      ]
    },
    {
      "cell_type": "markdown",
      "metadata": {
        "id": "H9n4eQ07_i7J"
      },
      "source": [
        "This work is contain a good amount of Python tricks and tips which helps you to write better code. \r\n",
        "`I dedicate this work to python lovers.`"
      ]
    },
    {
      "cell_type": "code",
      "metadata": {
        "id": "Cd1OH340lTvR",
        "colab": {
          "base_uri": "https://localhost:8080/"
        },
        "outputId": "24bae461-e4ec-4378-87b6-ec9970e852ac"
      },
      "source": [
        "# Before you start check your python version. All the code run well above 3.6+ version.\n",
        "import sys\n",
        "!python --version\n",
        "print(sys.version)\n",
        "print(sys.version_info)"
      ],
      "execution_count": null,
      "outputs": [
        {
          "output_type": "stream",
          "text": [
            "Python 3.6.9\n",
            "3.6.9 (default, Oct  8 2020, 12:12:24) \n",
            "[GCC 8.4.0]\n",
            "sys.version_info(major=3, minor=6, micro=9, releaselevel='final', serial=0)\n"
          ],
          "name": "stdout"
        }
      ]
    },
    {
      "cell_type": "markdown",
      "metadata": {
        "id": "AiB3TvXUPbY8"
      },
      "source": [
        "# String Manipulation"
      ]
    },
    {
      "cell_type": "markdown",
      "metadata": {
        "id": "a7IekfMNVn34"
      },
      "source": [
        "### Concatenating"
      ]
    },
    {
      "cell_type": "code",
      "metadata": {
        "id": "vcoLh3IG5U2a",
        "colab": {
          "base_uri": "https://localhost:8080/"
        },
        "outputId": "b6223b9d-ec63-47d9-bcc3-01cfaccf7168"
      },
      "source": [
        "words = ['This', 'is', 'python', 'trick']\n",
        "sentence = \" \".join(words)\n",
        "print(sentence)"
      ],
      "execution_count": null,
      "outputs": [
        {
          "output_type": "stream",
          "text": [
            "This is python trick\n"
          ],
          "name": "stdout"
        }
      ]
    },
    {
      "cell_type": "markdown",
      "metadata": {
        "id": "WONmgdBOWNP0"
      },
      "source": [
        "### Splitting"
      ]
    },
    {
      "cell_type": "code",
      "metadata": {
        "id": "0OemLpEFTRtO",
        "colab": {
          "base_uri": "https://localhost:8080/"
        },
        "outputId": "5a680e34-024e-47cd-ee1b-17a09ff281e2"
      },
      "source": [
        "sentence = \"This is python trick\"\n",
        "words = sentence.split()\n",
        "print(words)"
      ],
      "execution_count": null,
      "outputs": [
        {
          "output_type": "stream",
          "text": [
            "['This', 'is', 'python', 'trick']\n"
          ],
          "name": "stdout"
        }
      ]
    },
    {
      "cell_type": "markdown",
      "metadata": {
        "id": "vhDGlesrWT2k"
      },
      "source": [
        "### Reversing"
      ]
    },
    {
      "cell_type": "code",
      "metadata": {
        "id": "TzGJQUypVRX4",
        "colab": {
          "base_uri": "https://localhost:8080/"
        },
        "outputId": "2b962a81-8f93-44b6-ea5c-54949989cc77"
      },
      "source": [
        "word = \"python\"\n",
        "words = ['This', 'is', 'python', 'trick']\n",
        "print(word[::-1])\n",
        "print(words[::-1])"
      ],
      "execution_count": null,
      "outputs": [
        {
          "output_type": "stream",
          "text": [
            "nohtyp\n",
            "['trick', 'python', 'is', 'This']\n"
          ],
          "name": "stdout"
        }
      ]
    },
    {
      "cell_type": "markdown",
      "metadata": {
        "id": "z2Y0iBqHdBdS"
      },
      "source": [
        "### Printing out multiples of strings"
      ]
    },
    {
      "cell_type": "code",
      "metadata": {
        "id": "Sx99WrzAdEtN",
        "colab": {
          "base_uri": "https://localhost:8080/"
        },
        "outputId": "fa63b085-7608-4a78-93f0-6e0eac5446d4"
      },
      "source": [
        "print(\"Hello there! \"*2 + \"Cool Python.. \"*2)"
      ],
      "execution_count": null,
      "outputs": [
        {
          "output_type": "stream",
          "text": [
            "Hello there! Hello there! Cool Python.. Cool Python.. \n"
          ],
          "name": "stdout"
        }
      ]
    },
    {
      "cell_type": "markdown",
      "metadata": {
        "id": "Tw0qbR9eUsb3"
      },
      "source": [
        "## Removing unnecessary characters on strings"
      ]
    },
    {
      "cell_type": "code",
      "metadata": {
        "id": "Ee--fgNHVHOg",
        "colab": {
          "base_uri": "https://localhost:8080/"
        },
        "outputId": "46c85440-48f2-4e23-c27e-9ccbc5540680"
      },
      "source": [
        "name_with_space = \"    Resul    \"\n",
        "name_with_slash = \"////Resul////\"\n",
        "print(name_with_space.strip())\n",
        "print( name_with_slash.strip(\"/\"))\n"
      ],
      "execution_count": null,
      "outputs": [
        {
          "output_type": "stream",
          "text": [
            "Resul\n",
            "Resul\n"
          ],
          "name": "stdout"
        }
      ]
    },
    {
      "cell_type": "markdown",
      "metadata": {
        "id": "23C8PE_T35Pu"
      },
      "source": [
        "# Anagram Strings "
      ]
    },
    {
      "cell_type": "code",
      "metadata": {
        "id": "yU4SZZ7d35fc",
        "colab": {
          "base_uri": "https://localhost:8080/"
        },
        "outputId": "3f394356-01d8-41c8-a5bd-f13706d086ab"
      },
      "source": [
        "from collections import Counter\n",
        "\n",
        "str_1 = \"listen\"\n",
        "str_2 = \"silent\"\n",
        "cnt_1, cnt_2 = Counter(str_1), Counter(str_2)\n",
        "\n",
        "if cnt_1 == cnt_2:\n",
        "    print(f'Yes, {str_1} and {str_2}  are anagram words.')\n",
        "else:\n",
        "    print('Not anagram')"
      ],
      "execution_count": null,
      "outputs": [
        {
          "output_type": "stream",
          "text": [
            "Yes, listen and silent  are anagram words.\n"
          ],
          "name": "stdout"
        }
      ]
    },
    {
      "cell_type": "markdown",
      "metadata": {
        "id": "fBwVOJ4e1H-b"
      },
      "source": [
        "# Palindrome Strings"
      ]
    },
    {
      "cell_type": "code",
      "metadata": {
        "id": "_L7UmVj81KGE",
        "colab": {
          "base_uri": "https://localhost:8080/"
        },
        "outputId": "6fab3404-c160-422f-cf0d-ad14ff959a91"
      },
      "source": [
        "my_string = \"racecar\"\n",
        "\n",
        "if my_string == my_string[::-1]:\n",
        "  print(\"yes, it is palindrome\")\n",
        "else:\n",
        "  print(\"it is not palindrome\")"
      ],
      "execution_count": null,
      "outputs": [
        {
          "output_type": "stream",
          "text": [
            "yes, it is palindrome\n"
          ],
          "name": "stdout"
        }
      ]
    },
    {
      "cell_type": "markdown",
      "metadata": {
        "id": "C1LTIAHjD5Qn"
      },
      "source": [
        "# Use Regex to Find Basic Pattern in Strings"
      ]
    },
    {
      "cell_type": "code",
      "metadata": {
        "colab": {
          "base_uri": "https://localhost:8080/"
        },
        "id": "0ZeFcthAIA57",
        "outputId": "02d25351-2c92-4263-93f1-19c1da473f13"
      },
      "source": [
        "# here this pattern matches with all emails.\r\n",
        "import re\r\n",
        "\r\n",
        "text = \"Some trivial emails are bigman@bigger.com, resgobar@resnet.com and funny@example.com\"\r\n",
        "pattern = '[\\w.]+\\@[\\w.]+'          # also this \"[^@]+@[^@]+\\.[^@]+\" pattern finds emails with text. \r\n",
        "result = re.findall(pattern, text)  # return as a list\r\n",
        "\r\n",
        "print(result)"
      ],
      "execution_count": 11,
      "outputs": [
        {
          "output_type": "stream",
          "text": [
            "['bigman@bigger.com', 'resgobar@resnet.com', 'funny@example.com']\n"
          ],
          "name": "stdout"
        }
      ]
    },
    {
      "cell_type": "markdown",
      "metadata": {
        "id": "QcZnW_Ox1__o"
      },
      "source": [
        "# Frequency of Elements in a List - Counter()"
      ]
    },
    {
      "cell_type": "code",
      "metadata": {
        "id": "IrhhC3Sh2DTt",
        "colab": {
          "base_uri": "https://localhost:8080/"
        },
        "outputId": "02a4611b-edc1-4c8f-a660-f19eebf2fc71"
      },
      "source": [
        "from collections import Counter\n",
        "\n",
        "my_list = ['apple','apple','banana','banana','apple','apricot','fig','fig']\n",
        "count = Counter(my_list)\n",
        "\n",
        "print(count)\n",
        "print(count['fig'])\n",
        "print(count.most_common(1))"
      ],
      "execution_count": null,
      "outputs": [
        {
          "output_type": "stream",
          "text": [
            "Counter({'apple': 3, 'banana': 2, 'fig': 2, 'apricot': 1})\n",
            "2\n",
            "[('apple', 3)]\n"
          ],
          "name": "stdout"
        }
      ]
    },
    {
      "cell_type": "markdown",
      "metadata": {
        "id": "LPXN4d9v9eNy"
      },
      "source": [
        "# Using itertools (combinations)"
      ]
    },
    {
      "cell_type": "code",
      "metadata": {
        "id": "t6A9vnUa9inE",
        "colab": {
          "base_uri": "https://localhost:8080/"
        },
        "outputId": "c04b4c18-e657-4f53-9b57-24147d631d86"
      },
      "source": [
        "import itertools\n",
        "friends = ['Team-A', 'Team-B', 'Team-C', 'Team-D']\n",
        "list(itertools.combinations(friends, r=2))\n",
        "\n",
        "#smilarly you can use itertools.permutations()"
      ],
      "execution_count": null,
      "outputs": [
        {
          "output_type": "execute_result",
          "data": {
            "text/plain": [
              "[('Team-A', 'Team-B'),\n",
              " ('Team-A', 'Team-C'),\n",
              " ('Team-A', 'Team-D'),\n",
              " ('Team-B', 'Team-C'),\n",
              " ('Team-B', 'Team-D'),\n",
              " ('Team-C', 'Team-D')]"
            ]
          },
          "metadata": {
            "tags": []
          },
          "execution_count": 10
        }
      ]
    },
    {
      "cell_type": "markdown",
      "metadata": {
        "id": "Y3vGBGa6zqYd"
      },
      "source": [
        "# Unique Elements in a String"
      ]
    },
    {
      "cell_type": "code",
      "metadata": {
        "id": "6_upnjVnstJp",
        "colab": {
          "base_uri": "https://localhost:8080/"
        },
        "outputId": "cae08068-00c7-404c-dc70-65089030758b"
      },
      "source": [
        "my_string = \"llllssssseeeeeeuuuuurrrrr\"\n",
        "temp_set = set(my_string)\n",
        "new_string = ''.join(temp_set)\n",
        "print(new_string)"
      ],
      "execution_count": null,
      "outputs": [
        {
          "output_type": "stream",
          "text": [
            "userl\n"
          ],
          "name": "stdout"
        }
      ]
    },
    {
      "cell_type": "markdown",
      "metadata": {
        "id": "MJIIIqqLYNsQ"
      },
      "source": [
        "# Swapping values"
      ]
    },
    {
      "cell_type": "code",
      "metadata": {
        "id": "VSp-B1DEYSRu",
        "colab": {
          "base_uri": "https://localhost:8080/"
        },
        "outputId": "995de8e1-8ed4-4c2b-cd47-d1a52cfbbca1"
      },
      "source": [
        "x, y = 1, 2\n",
        "print(x, y)\n",
        "\n",
        "#Swapping values\n",
        "x, y = y, x\n",
        "print(x, y)"
      ],
      "execution_count": null,
      "outputs": [
        {
          "output_type": "stream",
          "text": [
            "1 2\n",
            "2 1\n"
          ],
          "name": "stdout"
        }
      ]
    },
    {
      "cell_type": "markdown",
      "metadata": {
        "id": "efqT-ubyZh6-"
      },
      "source": [
        "# Returning multiple values from a function"
      ]
    },
    {
      "cell_type": "code",
      "metadata": {
        "id": "jJZ9sOBJZnr6",
        "colab": {
          "base_uri": "https://localhost:8080/"
        },
        "outputId": "1a847653-714c-4192-cd22-4059ad3bde6d"
      },
      "source": [
        "def myFunc():\n",
        "    a = \"Hakan\"\n",
        "    b = \"40\"\n",
        "    c = \"Teacher\"\n",
        "    return a, b, c\n",
        "\n",
        "name, age, job = myFunc()\n",
        "\n",
        "print(f'{name} is a {job} and {age} years old.')"
      ],
      "execution_count": null,
      "outputs": [
        {
          "output_type": "stream",
          "text": [
            "Hakan is a Teacher and 40 years old.\n"
          ],
          "name": "stdout"
        }
      ]
    },
    {
      "cell_type": "markdown",
      "metadata": {
        "id": "tg-EJj8pfska"
      },
      "source": [
        "# Ternary operator"
      ]
    },
    {
      "cell_type": "code",
      "metadata": {
        "id": "kyIyXU5AftCx",
        "colab": {
          "base_uri": "https://localhost:8080/"
        },
        "outputId": "abda870f-e663-413a-9822-cad97a95a1ae"
      },
      "source": [
        "y = 30\n",
        "x = 10 if (y == 30) else 20\n",
        "print(x)"
      ],
      "execution_count": null,
      "outputs": [
        {
          "output_type": "stream",
          "text": [
            "10\n"
          ],
          "name": "stdout"
        }
      ]
    },
    {
      "cell_type": "code",
      "metadata": {
        "id": "5xZskSQYgfXp",
        "colab": {
          "base_uri": "https://localhost:8080/"
        },
        "outputId": "49f40fc8-dd44-4c4d-d739-185f253db8c5"
      },
      "source": [
        "age_list = [18,14,\"eleven\"]\n",
        "for age in age_list:\n",
        "  check = (\"Access Granted!\" if (age >= 18) else \"Access Denied!\") if type(age) == int else \"Enter a valid number\"\n",
        "  print(check)\n"
      ],
      "execution_count": null,
      "outputs": [
        {
          "output_type": "stream",
          "text": [
            "Access Granted!\n",
            "Access Denied!\n",
            "Enter a valid number\n"
          ],
          "name": "stdout"
        }
      ]
    },
    {
      "cell_type": "markdown",
      "metadata": {
        "id": "w5U-ImvouDcl"
      },
      "source": [
        "One line conditional if-else "
      ]
    },
    {
      "cell_type": "code",
      "metadata": {
        "id": "_c6ZXnr9xAXU",
        "colab": {
          "base_uri": "https://localhost:8080/",
          "height": 53
        },
        "outputId": "5e6f0ae2-af10-4a99-936e-cbd3af92f15d"
      },
      "source": [
        "age =int(input(\"Age :\"))\n",
        "\"old adults\" if age >= 60 else \"middle-aged\" if 40 <= age < 60 else \"young adult\""
      ],
      "execution_count": null,
      "outputs": [
        {
          "output_type": "stream",
          "text": [
            "Age :40\n"
          ],
          "name": "stdout"
        },
        {
          "output_type": "execute_result",
          "data": {
            "application/vnd.google.colaboratory.intrinsic+json": {
              "type": "string"
            },
            "text/plain": [
              "'middle-aged'"
            ]
          },
          "metadata": {
            "tags": []
          },
          "execution_count": 44
        }
      ]
    },
    {
      "cell_type": "markdown",
      "metadata": {
        "id": "iZgE8bt7gxbv"
      },
      "source": [
        "# Chained comparison"
      ]
    },
    {
      "cell_type": "code",
      "metadata": {
        "id": "ntanQ6CNgxzy",
        "colab": {
          "base_uri": "https://localhost:8080/"
        },
        "outputId": "6b404560-d8c9-4d0a-aca4-d11efc3f71c0"
      },
      "source": [
        "a = 4\n",
        "b = 8\n",
        "print(a < b < 10)\n",
        "print(a == b/2 < 10 > b)"
      ],
      "execution_count": null,
      "outputs": [
        {
          "output_type": "stream",
          "text": [
            "True\n",
            "True\n"
          ],
          "name": "stdout"
        }
      ]
    },
    {
      "cell_type": "markdown",
      "metadata": {
        "id": "dFGS9lGujEFt"
      },
      "source": [
        "# Chained function call"
      ]
    },
    {
      "cell_type": "code",
      "metadata": {
        "id": "zfE_BiIKjETU",
        "colab": {
          "base_uri": "https://localhost:8080/"
        },
        "outputId": "7d50239d-2977-438e-e1c7-27b769c323a9"
      },
      "source": [
        "def multiply(a,b):\n",
        "  return a*b\n",
        "\n",
        "def add(a,b):\n",
        "  return a+b\n",
        "\n",
        "x = False\n",
        "print( (multiply if x else add)(3,5) ) "
      ],
      "execution_count": null,
      "outputs": [
        {
          "output_type": "stream",
          "text": [
            "8\n"
          ],
          "name": "stdout"
        }
      ]
    },
    {
      "cell_type": "markdown",
      "metadata": {
        "id": "hXtKj25dnWjg"
      },
      "source": [
        "# Slicing a list"
      ]
    },
    {
      "cell_type": "markdown",
      "metadata": {
        "id": "xNOuSVHbyR8n"
      },
      "source": [
        "[start : stop : step]"
      ]
    },
    {
      "cell_type": "code",
      "metadata": {
        "id": "SvvlI5OSnYim",
        "colab": {
          "base_uri": "https://localhost:8080/"
        },
        "outputId": "8d975d7a-92c5-4325-c9e1-ebe515ee443d"
      },
      "source": [
        "num_list = [1, 2, 3, 4, 5, 6, 7, 8, 9]\n",
        "steps = num_list[0::2]\n",
        "print(steps)"
      ],
      "execution_count": null,
      "outputs": [
        {
          "output_type": "stream",
          "text": [
            "[1, 3, 5, 7, 9]\n"
          ],
          "name": "stdout"
        }
      ]
    },
    {
      "cell_type": "markdown",
      "metadata": {
        "id": "sVJhKcbUPgRy"
      },
      "source": [
        "# unpacking list"
      ]
    },
    {
      "cell_type": "code",
      "metadata": {
        "id": "VFbH-6hcPl7h",
        "colab": {
          "base_uri": "https://localhost:8080/"
        },
        "outputId": "1fcc31a3-13c8-4681-aa21-0dd742bb3999"
      },
      "source": [
        "num_list = [1, 2, 3, 4, 5, 6, 7, 8, 9]\n",
        "a, b, c, d = num_list[4:8]\n",
        "print(f'a = {a}, b = {b}, c = {c}, d = {d}')\n",
        "\n",
        "a, *b, c, d = num_list\n",
        "print(f'a = {a}, b = {b}, c = {c}, d = {d}')"
      ],
      "execution_count": null,
      "outputs": [
        {
          "output_type": "stream",
          "text": [
            "a = 5, b = 6, c = 7, d = 8\n",
            "a = 1, b = [2, 3, 4, 5, 6, 7], c = 8, d = 9\n"
          ],
          "name": "stdout"
        }
      ]
    },
    {
      "cell_type": "code",
      "metadata": {
        "id": "K5FNJCfK3-gC",
        "colab": {
          "base_uri": "https://localhost:8080/"
        },
        "outputId": "d1c6558d-9bba-46c7-f89d-1bd485408f20"
      },
      "source": [
        "my_list = [\"Resul\", \"is\", \"a\", \"python\", \"developer\"]\n",
        "print(' '.join(str(x) for x in my_list))\n",
        "\n",
        "# or do the same with unpackin the list by * operator\n",
        "print(*my_list, sep=' ')"
      ],
      "execution_count": null,
      "outputs": [
        {
          "output_type": "stream",
          "text": [
            "Resul is a python developer\n",
            "Resul is a python developer\n"
          ],
          "name": "stdout"
        }
      ]
    },
    {
      "cell_type": "markdown",
      "metadata": {
        "id": "inC5CHPAX-Z_"
      },
      "source": [
        "# Copying List"
      ]
    },
    {
      "cell_type": "markdown",
      "metadata": {
        "id": "9f-8DdA2cyvK"
      },
      "source": [
        "Fast way of copying -- shallow copy"
      ]
    },
    {
      "cell_type": "code",
      "metadata": {
        "id": "DU5HP_facSE8",
        "colab": {
          "base_uri": "https://localhost:8080/"
        },
        "outputId": "929f1444-e076-4e06-b7d5-a23eb577a39a"
      },
      "source": [
        "list_1 = [1,2,3,4]\n",
        "new_list = list_1 # new_list = list_1.copy() also smilar.\n",
        "\n",
        "print(new_list)\n",
        "print(new_list == list_1)\n",
        "print(new_list is list_1)\n",
        "print(id(new_list), \"=\", id(list_1))"
      ],
      "execution_count": null,
      "outputs": [
        {
          "output_type": "stream",
          "text": [
            "[1, 2, 3, 4]\n",
            "True\n",
            "True\n",
            "140066204330760 = 140066204330760\n"
          ],
          "name": "stdout"
        }
      ]
    },
    {
      "cell_type": "markdown",
      "metadata": {
        "id": "4ynoy8ppfM7O"
      },
      "source": [
        "using list() or slicing."
      ]
    },
    {
      "cell_type": "code",
      "metadata": {
        "id": "nWTVf3WEYFwO",
        "colab": {
          "base_uri": "https://localhost:8080/"
        },
        "outputId": "fc74fd36-3bb5-41c1-ed5b-97b9443c2d9e"
      },
      "source": [
        "list_1 = [1,2,3,4]\n",
        "new_list = list_1[:] # new_list = list(list_1) also smilar.\n",
        "\n",
        "print(new_list)\n",
        "print(new_list == list_1)\n",
        "print(new_list is list_1)\n",
        "print(id(new_list), \"!=\", id(list_1))"
      ],
      "execution_count": null,
      "outputs": [
        {
          "output_type": "stream",
          "text": [
            "[1, 2, 3, 4]\n",
            "True\n",
            "False\n",
            "140066205129352 != 140066205328904\n"
          ],
          "name": "stdout"
        }
      ]
    },
    {
      "cell_type": "markdown",
      "metadata": {
        "id": "6SIXUYaQffmF"
      },
      "source": [
        "using deepcopy() to copy nested list."
      ]
    },
    {
      "cell_type": "code",
      "metadata": {
        "id": "EkOmdstIbQXD",
        "colab": {
          "base_uri": "https://localhost:8080/"
        },
        "outputId": "cff8d1dc-b5f0-4621-a67a-f31501d8e0b2"
      },
      "source": [
        "from copy import deepcopy\n",
        "\n",
        "list_1 = [[1,2],[3,4],[5,[6,7],8]]\n",
        "new_list = deepcopy(list_1)\n",
        "\n",
        "print(new_list)\n",
        "print(new_list == list_1)\n",
        "print(new_list is list_1)\n",
        "print(id(new_list), \"!=\", id(list_1))"
      ],
      "execution_count": null,
      "outputs": [
        {
          "output_type": "stream",
          "text": [
            "[[1, 2], [3, 4], [5, [6, 7], 8]]\n",
            "True\n",
            "False\n",
            "140066189213832 != 140066204540616\n"
          ],
          "name": "stdout"
        }
      ]
    },
    {
      "cell_type": "markdown",
      "metadata": {
        "id": "wqsCKS-Th3YO"
      },
      "source": [
        "# List of list flattening"
      ]
    },
    {
      "cell_type": "code",
      "metadata": {
        "id": "KqrbkU3Xh3h0",
        "colab": {
          "base_uri": "https://localhost:8080/"
        },
        "outputId": "c0d5025f-5343-4c5f-c81b-c97eb665d790"
      },
      "source": [
        "my_list = [[1, 2, 3], [4, 5], [6], [7, 8, 9]]\n",
        "sum(my_list, [])"
      ],
      "execution_count": null,
      "outputs": [
        {
          "output_type": "execute_result",
          "data": {
            "text/plain": [
              "[1, 2, 3, 4, 5, 6, 7, 8, 9]"
            ]
          },
          "metadata": {
            "tags": []
          },
          "execution_count": 25
        }
      ]
    },
    {
      "cell_type": "markdown",
      "metadata": {
        "id": "ctHXE0YYhGv5"
      },
      "source": [
        "# Min and max index in list"
      ]
    },
    {
      "cell_type": "code",
      "metadata": {
        "id": "THPBpIG2hK45",
        "colab": {
          "base_uri": "https://localhost:8080/"
        },
        "outputId": "9c44f73d-6f0c-4128-ecb6-7611fa998869"
      },
      "source": [
        "my_list = [4,5,1,3,2]\n",
        "print(f'index of MIN. number in my_list is : {min(range(len(my_list)), key=my_list.__getitem__)}')\n",
        "print(f'index of MAX. number in my_list is : {max(range(len(my_list)), key=my_list.__getitem__)}')"
      ],
      "execution_count": null,
      "outputs": [
        {
          "output_type": "stream",
          "text": [
            "index of MIN. number in my_list is : 2\n",
            "index of MAX. number in my_list is : 1\n"
          ],
          "name": "stdout"
        }
      ]
    },
    {
      "cell_type": "markdown",
      "metadata": {
        "id": "EDJHAHHJQYY-"
      },
      "source": [
        "# Using List Comprehensions"
      ]
    },
    {
      "cell_type": "markdown",
      "metadata": {
        "id": "YPv6t16Tk5JF"
      },
      "source": [
        "### [ expression for item in list if conditional ]"
      ]
    },
    {
      "cell_type": "code",
      "metadata": {
        "id": "T_5UjfpUj37O",
        "colab": {
          "base_uri": "https://localhost:8080/"
        },
        "outputId": "a73a37b8-6e05-4e4c-dc5a-314a82db7a60"
      },
      "source": [
        "# Old way of doing list\n",
        "\n",
        "def square(a):\n",
        "  return a**2\n",
        "  \n",
        "my_list = [1, 2, 3, 4, 5, 6, 7, 8]\n",
        "new_list = []\n",
        "for x in my_list:\n",
        "  if x % 2 != 0:\n",
        "    new_list.append(square(x))\n",
        "print(new_list)"
      ],
      "execution_count": null,
      "outputs": [
        {
          "output_type": "stream",
          "text": [
            "[1, 9, 25, 49]\n"
          ],
          "name": "stdout"
        }
      ]
    },
    {
      "cell_type": "code",
      "metadata": {
        "id": "laWG65mHNR7W",
        "colab": {
          "base_uri": "https://localhost:8080/"
        },
        "outputId": "797c8704-ebd9-4010-c435-ea1a31eaf6ef"
      },
      "source": [
        "# Doing the same list with list comprehension is olny one line.\n",
        "\n",
        "mylist = [i**2 for i in range(8) if i % 2 !=0 ]\n",
        "print(mylist)"
      ],
      "execution_count": null,
      "outputs": [
        {
          "output_type": "stream",
          "text": [
            "[1, 9, 25, 49]\n"
          ],
          "name": "stdout"
        }
      ]
    },
    {
      "cell_type": "code",
      "metadata": {
        "id": "GsJ17zn1lO0A",
        "colab": {
          "base_uri": "https://localhost:8080/"
        },
        "outputId": "e8abb9d5-670a-4ac3-fe0a-60c6fac9c0da"
      },
      "source": [
        "another_comp_list = [i for i in range(50) if i%2==0 and i%5==0]\n",
        "print(another_comp_list)"
      ],
      "execution_count": null,
      "outputs": [
        {
          "output_type": "stream",
          "text": [
            "[0, 10, 20, 30, 40]\n"
          ],
          "name": "stdout"
        }
      ]
    },
    {
      "cell_type": "code",
      "metadata": {
        "id": "wegTPK0KeV4e",
        "colab": {
          "base_uri": "https://localhost:8080/"
        },
        "outputId": "c1ec9e38-adc3-4c07-b8bf-98b76f136ebd"
      },
      "source": [
        "set_comph = {i**2 for i in range(5)}\n",
        "print(set_comph)\n",
        "\n",
        "dict_comph = {k: v**2 for k,v in zip('abcde',range(5))}\n",
        "print(dict_comph)"
      ],
      "execution_count": null,
      "outputs": [
        {
          "output_type": "stream",
          "text": [
            "{0, 1, 4, 9, 16}\n",
            "{'a': 0, 'b': 1, 'c': 4, 'd': 9, 'e': 16}\n"
          ],
          "name": "stdout"
        }
      ]
    },
    {
      "cell_type": "markdown",
      "metadata": {
        "id": "CQaQgnafUIWE"
      },
      "source": [
        "# Merging Dictionaries"
      ]
    },
    {
      "cell_type": "code",
      "metadata": {
        "id": "4oACOaweUQ-V",
        "colab": {
          "base_uri": "https://localhost:8080/"
        },
        "outputId": "832d4a48-89b7-43c0-e3b6-c552d4818112"
      },
      "source": [
        "x = {'a': 1, 'b': 2}\n",
        "y = {'c': 3, 'd': 4}\n",
        "z = {'e': 5, 'f': 6}\n",
        "merged = {**x, **y, **z}\n",
        "print(merged)"
      ],
      "execution_count": null,
      "outputs": [
        {
          "output_type": "stream",
          "text": [
            "{'a': 1, 'b': 2, 'c': 3, 'd': 4, 'e': 5, 'f': 6}\n"
          ],
          "name": "stdout"
        }
      ]
    },
    {
      "cell_type": "markdown",
      "metadata": {
        "id": "HzPHhW8DZrxA"
      },
      "source": [
        "# Iterating over a dictionary"
      ]
    },
    {
      "cell_type": "code",
      "metadata": {
        "id": "ycCQTThnZsGB",
        "colab": {
          "base_uri": "https://localhost:8080/"
        },
        "outputId": "2e60c7e2-9d87-4662-faac-fc90dc9f4f66"
      },
      "source": [
        "dict1 = {'a': 1, 'b': 2, 'c': 3, 'd': 4} \n",
        "for key, value in dict1.items():\n",
        "    print('{0}: {1}'.format(key, value))"
      ],
      "execution_count": null,
      "outputs": [
        {
          "output_type": "stream",
          "text": [
            "a: 1\n",
            "b: 2\n",
            "c: 3\n",
            "d: 4\n"
          ],
          "name": "stdout"
        }
      ]
    },
    {
      "cell_type": "markdown",
      "metadata": {
        "id": "PyWGzro1ZqXk"
      },
      "source": [
        "# Inverting dictionary"
      ]
    },
    {
      "cell_type": "code",
      "metadata": {
        "id": "9sSYH0c4ZrWN",
        "colab": {
          "base_uri": "https://localhost:8080/"
        },
        "outputId": "e3c662e5-656e-488f-9a18-ebe5257e629e"
      },
      "source": [
        "dict1 = {'one': 1, 'two': 2, 'tree': 3, 'four': 4}\n",
        "dict2 = { v: k  for k, v in dict1.items() }\n",
        "print(dict2)"
      ],
      "execution_count": null,
      "outputs": [
        {
          "output_type": "stream",
          "text": [
            "{1: 'one', 2: 'two', 3: 'tree', 4: 'four'}\n"
          ],
          "name": "stdout"
        }
      ]
    },
    {
      "cell_type": "markdown",
      "metadata": {
        "id": "1Toy4En6l31c"
      },
      "source": [
        "# Sorting dictionary by value"
      ]
    },
    {
      "cell_type": "code",
      "metadata": {
        "id": "e1M7YgNsl3qc",
        "colab": {
          "base_uri": "https://localhost:8080/"
        },
        "outputId": "d40d5da3-2bd8-4670-a613-072e5e521095"
      },
      "source": [
        "d = {\"jacket\":50, \"bag\":20, \"hat\":10, \"tshirt\":30, \"shoes\":40}\n",
        "print(sorted(d.items(), key=lambda x:x[1]))"
      ],
      "execution_count": null,
      "outputs": [
        {
          "output_type": "stream",
          "text": [
            "[('hat', 10), ('bag', 20), ('tshirt', 30), ('shoes', 40), ('jacket', 50)]\n"
          ],
          "name": "stdout"
        }
      ]
    },
    {
      "cell_type": "markdown",
      "metadata": {
        "id": "agHBaHuPZsc_"
      },
      "source": [
        "# Most frequent element in a list."
      ]
    },
    {
      "cell_type": "code",
      "metadata": {
        "id": "jtg-tEdAZs1q",
        "colab": {
          "base_uri": "https://localhost:8080/"
        },
        "outputId": "a9392fb9-d7e5-4a7d-9075-82eb43d2d480"
      },
      "source": [
        "numbers = [1, 2, 3, 4, 2, 2, 3, 1, 4, 4, 2, 4, 4]\n",
        "print(max(set(numbers), key = numbers.count))"
      ],
      "execution_count": null,
      "outputs": [
        {
          "output_type": "stream",
          "text": [
            "4\n"
          ],
          "name": "stdout"
        }
      ]
    },
    {
      "cell_type": "markdown",
      "metadata": {
        "id": "4HVXENehi6Q3"
      },
      "source": [
        "# Dictionary get method"
      ]
    },
    {
      "cell_type": "code",
      "metadata": {
        "id": "9tHDolSMi9Zj",
        "colab": {
          "base_uri": "https://localhost:8080/"
        },
        "outputId": "4915593f-c128-4943-805d-ec9a6c3ebaaa"
      },
      "source": [
        "dict1 = dict(zip('abc','123'))\n",
        "print(dict1)\n",
        "print(dict1.get(\"d\",4)) # if key is not in dict return default value."
      ],
      "execution_count": null,
      "outputs": [
        {
          "output_type": "stream",
          "text": [
            "{'a': '1', 'b': '2', 'c': '3'}\n",
            "4\n"
          ],
          "name": "stdout"
        }
      ]
    },
    {
      "cell_type": "markdown",
      "metadata": {
        "id": "B9ZQfO7ugyI-"
      },
      "source": [
        "# Memory usage of an object."
      ]
    },
    {
      "cell_type": "code",
      "metadata": {
        "id": "mA9aNLhkgyg-",
        "colab": {
          "base_uri": "https://localhost:8080/"
        },
        "outputId": "19935241-0c2f-4fa4-ea40-750454c22988"
      },
      "source": [
        "import sys\n",
        "obj = [i**2 for i in range(10)]\n",
        "print(sys.getsizeof(obj))"
      ],
      "execution_count": null,
      "outputs": [
        {
          "output_type": "stream",
          "text": [
            "192\n"
          ],
          "name": "stdout"
        }
      ]
    },
    {
      "cell_type": "markdown",
      "metadata": {
        "id": "giFLaq09gy8Y"
      },
      "source": [
        "# Path of imported modules"
      ]
    },
    {
      "cell_type": "code",
      "metadata": {
        "id": "ToH5A7HSgzUJ",
        "colab": {
          "base_uri": "https://localhost:8080/"
        },
        "outputId": "fd72270a-9ab8-44cb-d5d0-68bbf8c3f073"
      },
      "source": [
        "import os, socket\n",
        "print(os)\n",
        "print(socket)"
      ],
      "execution_count": null,
      "outputs": [
        {
          "output_type": "stream",
          "text": [
            "<module 'os' from '/usr/lib/python3.6/os.py'>\n",
            "<module 'socket' from '/usr/lib/python3.6/socket.py'>\n"
          ],
          "name": "stdout"
        }
      ]
    },
    {
      "cell_type": "markdown",
      "metadata": {
        "id": "sUVKG6dzU58Z"
      },
      "source": [
        "# getpass module"
      ]
    },
    {
      "cell_type": "markdown",
      "metadata": {
        "id": "4d1hQ2cOXsBk"
      },
      "source": [
        " Input hiding of passwords"
      ]
    },
    {
      "cell_type": "code",
      "metadata": {
        "id": "0JBTfLhDUQVy",
        "colab": {
          "base_uri": "https://localhost:8080/"
        },
        "outputId": "5be132f8-890c-449e-d256-eb28d244d62e"
      },
      "source": [
        "import getpass\n",
        "\n",
        "users_name_pswd = {\"root\":\"adminpassword\"}\n",
        "\n",
        "user = getpass.getuser()\n",
        "password = getpass.getpass()\n",
        "\n",
        "if users_name_pswd[user] ==  password:\n",
        "  print(\"You are logged in.\")\n",
        "else:\n",
        "  print(\"Access Denied\")"
      ],
      "execution_count": null,
      "outputs": [
        {
          "output_type": "stream",
          "text": [
            "··········\n",
            "You are logged in.\n"
          ],
          "name": "stdout"
        }
      ]
    },
    {
      "cell_type": "markdown",
      "metadata": {
        "id": "kRpKPABI9W3j"
      },
      "source": [
        "# Using Enumerate to Get Index/Value Pairs"
      ]
    },
    {
      "cell_type": "code",
      "metadata": {
        "id": "W3OiwaDz9a-M",
        "colab": {
          "base_uri": "https://localhost:8080/"
        },
        "outputId": "97a82d12-c4f0-4fdb-ad87-115220c54949"
      },
      "source": [
        "my_list = ['item1', 'item2', 'item3', 'item4', 'item5']\n",
        "\n",
        "for index, value in enumerate(my_list):\n",
        "  print('{0}: {1}'.format(index+1, value))\n"
      ],
      "execution_count": null,
      "outputs": [
        {
          "output_type": "stream",
          "text": [
            "1: item1\n",
            "2: item2\n",
            "3: item3\n",
            "4: item4\n",
            "5: item5\n"
          ],
          "name": "stdout"
        }
      ]
    },
    {
      "cell_type": "markdown",
      "metadata": {
        "id": "N0gh8q6LGp6x"
      },
      "source": [
        "# Zipping and enumerate"
      ]
    },
    {
      "cell_type": "code",
      "metadata": {
        "id": "j4_jP1lqGtK4",
        "colab": {
          "base_uri": "https://localhost:8080/"
        },
        "outputId": "04894d18-c8d6-4c14-9bcd-495db2fedd1a"
      },
      "source": [
        "id_list = [1, 2, 3, 4]\n",
        "name_list = ['Hakan', 'Kaan', 'Asiye', 'Resul']\n",
        "job_list = ['Lawyer', 'Doctor', 'Teacher', 'Engineer']\n",
        "\n",
        "zip_list = list(zip(id_list, name_list, job_list))\n",
        "print(zip_list)\n",
        "\n",
        "for id, name, job in zip(id_list, name_list, job_list):\n",
        "    print(f'{id}th {name} is a {job}.')\n"
      ],
      "execution_count": null,
      "outputs": [
        {
          "output_type": "stream",
          "text": [
            "[(1, 'Hakan', 'Lawyer'), (2, 'Kaan', 'Doctor'), (3, 'Asiye', 'Teacher'), (4, 'Resul', 'Engineer')]\n",
            "1th Hakan is a Lawyer.\n",
            "2th Kaan is a Doctor.\n",
            "3th Asiye is a Teacher.\n",
            "4th Resul is a Engineer.\n"
          ],
          "name": "stdout"
        }
      ]
    },
    {
      "cell_type": "code",
      "metadata": {
        "id": "iknlimkz2EEI",
        "colab": {
          "base_uri": "https://localhost:8080/"
        },
        "outputId": "d588c4ff-6499-4200-a672-16979bfe76fd"
      },
      "source": [
        "first_names = [\"Hakan\", \"Kaan\", \"Asiye\"]\n",
        "last_names = [\"Caliskan\", \"Aslan\", \"Yıldız\"]\n",
        "\n",
        "first_last_names = [' '.join(x) for x in zip(first_names, last_names)]\n",
        "print(first_last_names)"
      ],
      "execution_count": null,
      "outputs": [
        {
          "output_type": "stream",
          "text": [
            "['Hakan Caliskan', 'Kaan Aslan', 'Asiye Yıldız']\n"
          ],
          "name": "stdout"
        }
      ]
    },
    {
      "cell_type": "markdown",
      "metadata": {
        "id": "GRqCqkzngzqF"
      },
      "source": [
        "# Recursive function"
      ]
    },
    {
      "cell_type": "code",
      "metadata": {
        "id": "gSkjM4uGgz-V",
        "colab": {
          "base_uri": "https://localhost:8080/"
        },
        "outputId": "04790db9-6d1d-4d87-c176-2ff672ffe188"
      },
      "source": [
        "def recursive_func(n):\n",
        "  # Base case: 1! = 1\n",
        "  if n == 1:\n",
        "    return 1\n",
        "\n",
        "  # Recursive case: n! = n * (n-1)!\n",
        "  else:\n",
        "    return n * recursive_func(n-1)\n",
        "\n",
        "print(recursive_func(10))"
      ],
      "execution_count": null,
      "outputs": [
        {
          "output_type": "stream",
          "text": [
            "3628800\n"
          ],
          "name": "stdout"
        }
      ]
    },
    {
      "cell_type": "markdown",
      "metadata": {
        "id": "-cIn8S7I-ZTH"
      },
      "source": [
        "# Calculate the execution time of function"
      ]
    },
    {
      "cell_type": "code",
      "metadata": {
        "id": "Z1wXBj16-kSq",
        "colab": {
          "base_uri": "https://localhost:8080/"
        },
        "outputId": "a1af7be0-1042-4079-bc48-e03dde9812c6"
      },
      "source": [
        "import time\n",
        "# using time() method\n",
        "start_time = time.time()\n",
        "some_of_list = sum([num for num in range(1_000_000)])\n",
        "time_diff = (time.time() - start_time)\n",
        "\n",
        "print(\"Total process time: {0:.4} ms\".format(time_diff))"
      ],
      "execution_count": null,
      "outputs": [
        {
          "output_type": "stream",
          "text": [
            "Total process time: 0.07727 ms\n"
          ],
          "name": "stdout"
        }
      ]
    },
    {
      "cell_type": "code",
      "metadata": {
        "id": "6k62_vPFZnOG",
        "colab": {
          "base_uri": "https://localhost:8080/"
        },
        "outputId": "41e1fb93-e323-4a79-e5fb-28f04a8be34d"
      },
      "source": [
        "import time\n",
        "# using clock() method\n",
        "start = time.clock()\n",
        "sum((i * i for i in range(1_000_000)))\n",
        "time_diff = time.clock() - start\n",
        "\n",
        "print(f\"Total process time: {time_diff:.4} ms\")"
      ],
      "execution_count": null,
      "outputs": [
        {
          "output_type": "stream",
          "text": [
            "Total process time: 0.0928 ms\n"
          ],
          "name": "stdout"
        }
      ]
    },
    {
      "cell_type": "markdown",
      "metadata": {
        "id": "nyTUUUKyz6Dl"
      },
      "source": [
        "# Files, directories and subdirectories of the current working directory."
      ]
    },
    {
      "cell_type": "code",
      "metadata": {
        "id": "trPgG4S1z6aw"
      },
      "source": [
        "import os\n",
        "cwd = os.getcwd()\n",
        "for dir_path, dir_names, file_names in os.walk(cwd):\n",
        "    for f in file_names[:2]: # only two of files in every directory\n",
        "        print(f)"
      ],
      "execution_count": null,
      "outputs": []
    },
    {
      "cell_type": "markdown",
      "metadata": {
        "id": "B10NRve_xeew"
      },
      "source": [
        "# Apply a function to every item in an iterable"
      ]
    },
    {
      "cell_type": "markdown",
      "metadata": {
        "id": "Z8ZHFH3lx6Vh"
      },
      "source": [
        "map(function, iterable)"
      ]
    },
    {
      "cell_type": "code",
      "metadata": {
        "id": "auVVoPy5xePx",
        "colab": {
          "base_uri": "https://localhost:8080/"
        },
        "outputId": "3dcddd83-f800-429a-8e79-3e276bef0d08"
      },
      "source": [
        "num_list = [1, 2, 3, 4, 5]\n",
        "\n",
        "def square(num):\n",
        "  return num*num\n",
        "\n",
        "result = list(map(square, num_list))\n",
        "print(result)"
      ],
      "execution_count": null,
      "outputs": [
        {
          "output_type": "stream",
          "text": [
            "[1, 4, 9, 16, 25]\n"
          ],
          "name": "stdout"
        }
      ]
    },
    {
      "cell_type": "markdown",
      "metadata": {
        "id": "wS1MYYVF_FjO"
      },
      "source": [
        "# Lambda expressions"
      ]
    },
    {
      "cell_type": "markdown",
      "metadata": {
        "id": "jVeVtJ09BWjd"
      },
      "source": [
        "One line function."
      ]
    },
    {
      "cell_type": "code",
      "metadata": {
        "id": "hUEuo58a_DpZ",
        "colab": {
          "base_uri": "https://localhost:8080/"
        },
        "outputId": "accd553f-24f2-4912-cf08-4386fe52b7a1"
      },
      "source": [
        "square = lambda num: num * num\n",
        "print(square(5))\n",
        "\n",
        "x = [1, 2, 3, 4, 5]\n",
        "print(list(map(lambda num: num * num, x)))"
      ],
      "execution_count": null,
      "outputs": [
        {
          "output_type": "stream",
          "text": [
            "25\n",
            "[1, 4, 9, 16, 25]\n"
          ],
          "name": "stdout"
        }
      ]
    },
    {
      "cell_type": "code",
      "metadata": {
        "id": "MdS0IhhtsU--",
        "colab": {
          "base_uri": "https://localhost:8080/"
        },
        "outputId": "622903d3-b88c-4a17-f6e2-dc1e876b3a2e"
      },
      "source": [
        "# Sorting with lambda function\n",
        "my_list = [10, -20, 30, 40, -5]\n",
        "print(sorted(my_list, key = lambda x : abs(x)))"
      ],
      "execution_count": null,
      "outputs": [
        {
          "output_type": "stream",
          "text": [
            "[-5, 10, -20, 30, 40]\n"
          ],
          "name": "stdout"
        }
      ]
    },
    {
      "cell_type": "markdown",
      "metadata": {
        "id": "IU_ZtQQIAwF2"
      },
      "source": [
        "# Reduce function"
      ]
    },
    {
      "cell_type": "markdown",
      "metadata": {
        "id": "QFdE0m8-BIhu"
      },
      "source": [
        "reduce(function, list)"
      ]
    },
    {
      "cell_type": "code",
      "metadata": {
        "id": "snSNuBhAAwR2",
        "colab": {
          "base_uri": "https://localhost:8080/"
        },
        "outputId": "4b271731-a273-498d-d85c-a2734908fb12"
      },
      "source": [
        "from functools import reduce\n",
        "\n",
        "product = reduce((lambda x, y: x * y),[1, 2, 3, 4])\n",
        "print(product)"
      ],
      "execution_count": null,
      "outputs": [
        {
          "output_type": "stream",
          "text": [
            "24\n"
          ],
          "name": "stdout"
        }
      ]
    },
    {
      "cell_type": "markdown",
      "metadata": {
        "id": "Mfw90jy6Bjah"
      },
      "source": [
        "# Filter function"
      ]
    },
    {
      "cell_type": "markdown",
      "metadata": {
        "id": "VNboQYirBlu2"
      },
      "source": [
        "filter(function, list)"
      ]
    },
    {
      "cell_type": "code",
      "metadata": {
        "id": "6C1_hazjBsLX",
        "colab": {
          "base_uri": "https://localhost:8080/"
        },
        "outputId": "3491af81-cdb0-4d56-a41a-bd384a9bb782"
      },
      "source": [
        "x = list(range(100))\n",
        "all_full_division_by_5 = list(filter(lambda num:num % 5 == 0, x))\n",
        "print(all_full_division_by_5)"
      ],
      "execution_count": null,
      "outputs": [
        {
          "output_type": "stream",
          "text": [
            "[0, 5, 10, 15, 20, 25, 30, 35, 40, 45, 50, 55, 60, 65, 70, 75, 80, 85, 90, 95]\n"
          ],
          "name": "stdout"
        }
      ]
    },
    {
      "cell_type": "markdown",
      "metadata": {
        "id": "KquBqmAlBXOP"
      },
      "source": [
        "# Open two files"
      ]
    },
    {
      "cell_type": "code",
      "metadata": {
        "id": "a90IO3WkBY5Y"
      },
      "source": [
        "with open(\"first.txt\") as my_file, open(\"second.txt\") as second_file:\n",
        "  for line_number, (line1, line2) in enumerate(zip(my_file, second_file)):\n",
        "    print(line_number, (line1, line2))"
      ],
      "execution_count": null,
      "outputs": []
    },
    {
      "cell_type": "markdown",
      "metadata": {
        "id": "YKBTHs-8I9ba"
      },
      "source": [
        "# To query a rest service"
      ]
    },
    {
      "cell_type": "code",
      "metadata": {
        "id": "L_S59sUiJEW3",
        "colab": {
          "base_uri": "https://localhost:8080/"
        },
        "outputId": "e8a53379-5fc5-4af7-d250-518959c9c37f"
      },
      "source": [
        "import requests\n",
        "url = 'http://www.example.com/'\n",
        "response = requests.get(url).text\n",
        "print(response[:55])"
      ],
      "execution_count": null,
      "outputs": [
        {
          "output_type": "stream",
          "text": [
            "<!doctype html>\n",
            "<html>\n",
            "<head>\n",
            "    <title>Example Domain\n"
          ],
          "name": "stdout"
        }
      ]
    },
    {
      "cell_type": "markdown",
      "metadata": {
        "id": "Vl2ESXWVHeef"
      },
      "source": [
        "# Higher order functions"
      ]
    },
    {
      "cell_type": "code",
      "metadata": {
        "id": "t7pnOJ6IHf_L",
        "colab": {
          "base_uri": "https://localhost:8080/"
        },
        "outputId": "31da5209-40a8-48f6-f953-bfd37aab9ea6"
      },
      "source": [
        "def sum_of_nums(nums):\n",
        "  return sum(nums)\n",
        "\n",
        "def power_of_nums(nums):\n",
        "  return [i**2 for i in nums]\n",
        "\n",
        "def high_order_func(func, num_list):\n",
        "  return func(num_list)\n",
        "\n",
        "print(high_order_func(sum_of_nums, [1, 2, 3]))\n",
        "print(high_order_func(power_of_nums, [1, 2, 3]))"
      ],
      "execution_count": null,
      "outputs": [
        {
          "output_type": "stream",
          "text": [
            "6\n",
            "[1, 4, 9]\n"
          ],
          "name": "stdout"
        }
      ]
    },
    {
      "cell_type": "markdown",
      "metadata": {
        "id": "qP76bOl-Le8m"
      },
      "source": [
        "# Generator (on the fly iteration)"
      ]
    },
    {
      "cell_type": "code",
      "metadata": {
        "id": "zRp9_IE-LgTW",
        "colab": {
          "base_uri": "https://localhost:8080/"
        },
        "outputId": "8b640b42-d092-45bc-899e-5c0cd18ee2bc"
      },
      "source": [
        "def num_generator(n):    # an infinite sequence generator that generates integers >= n\n",
        "    while True:\n",
        "        yield n\n",
        "        n += 1\n",
        "        \n",
        "plus_one = num_generator(3)     # starts at 3\n",
        "print(next(plus_one)) # 3\n",
        "print(next(plus_one)) # 4\n",
        "print(next(plus_one)) # 5\n",
        "print(next(plus_one)) # 6"
      ],
      "execution_count": null,
      "outputs": [
        {
          "output_type": "stream",
          "text": [
            "3\n",
            "4\n",
            "5\n",
            "6\n"
          ],
          "name": "stdout"
        }
      ]
    },
    {
      "cell_type": "markdown",
      "metadata": {
        "id": "9RtaLXs6EHH_"
      },
      "source": [
        "# Using coroutine and decorators"
      ]
    },
    {
      "cell_type": "markdown",
      "metadata": {
        "id": "F43_I0ffJ86x"
      },
      "source": [
        "Power function."
      ]
    },
    {
      "cell_type": "code",
      "metadata": {
        "id": "Usr2Vu91EHTS",
        "colab": {
          "base_uri": "https://localhost:8080/"
        },
        "outputId": "14a60f52-c548-4580-c3e8-e5d74051d79b"
      },
      "source": [
        "import math\n",
        "\"\"\" This program has two function first one is couroutine and the latter is decorator.\n",
        "    It produces the power of given number \"\"\"\n",
        "\n",
        "def coroutine(gen_fn):\n",
        "    def inner(*args, **kwargs):\n",
        "        gen = gen_fn(*args, **kwargs)\n",
        "        next(gen)\n",
        "        return gen\n",
        "    return inner\n",
        "\n",
        "@coroutine\n",
        "def power(p):\n",
        "    result = None\n",
        "    while True:\n",
        "        received = yield result\n",
        "        result = math.pow(received, p)\n",
        "\n",
        "squares = power(2)\n",
        "cubes = power(3)\n",
        "quadro = power(4)\n",
        "\n",
        "print(squares.send(4))\n",
        "print(cubes.send(4))\n",
        "print(quadro.send(4))"
      ],
      "execution_count": null,
      "outputs": [
        {
          "output_type": "stream",
          "text": [
            "16.0\n",
            "64.0\n",
            "256.0\n"
          ],
          "name": "stdout"
        }
      ]
    },
    {
      "cell_type": "markdown",
      "metadata": {
        "id": "Kn5YDb6I6Or1"
      },
      "source": [
        "# Error handling \"try-except-else-finally\" blocks"
      ]
    },
    {
      "cell_type": "code",
      "metadata": {
        "id": "p7rIBDIi6W7Q",
        "colab": {
          "base_uri": "https://localhost:8080/"
        },
        "outputId": "1d22be74-1c47-4080-94d8-e79d8dbc06bc"
      },
      "source": [
        "num1, num2 = 10, 2\n",
        "\n",
        "try:\n",
        "  print(f'result:{num1/num2}')\n",
        "except ZeroDivisionError as e: # exception raised when num2 is 0\n",
        "  print(\"Error!\", e)\n",
        "else:\n",
        "  print(\"no exceptions raised\")\n",
        "finally:\n",
        "  print(\"this always run\")"
      ],
      "execution_count": null,
      "outputs": [
        {
          "output_type": "stream",
          "text": [
            "result:5.0\n",
            "no exceptions raised\n",
            "this always run\n"
          ],
          "name": "stdout"
        }
      ]
    },
    {
      "cell_type": "markdown",
      "metadata": {
        "id": "ID2ap79iX6Aq"
      },
      "source": [
        "\n",
        "\n",
        "---\n",
        "Congratulations,\n",
        "happy pythoning...\n",
        "\n",
        "\n",
        "---\n",
        "\n",
        "\n",
        "Resul ÇALIŞKAN - Data Scientist\n",
        "\n",
        "\n",
        "---\n",
        "\n",
        "\n"
      ]
    }
  ]
}